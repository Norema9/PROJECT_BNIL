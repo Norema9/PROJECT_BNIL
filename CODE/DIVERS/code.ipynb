{
 "cells": [
  {
   "cell_type": "markdown",
   "metadata": {},
   "source": [
    "# PROBLEM DESCRIPTION"
   ]
  },
  {
   "cell_type": "markdown",
   "metadata": {},
   "source": [
    "With the increasing of renewable energy usage, the consumers have now the possibility to produce and introduce in the electrical Grid. This type of consumers, called \"prosumers\", are increasing in number. This rise a management of supply and demand problem caused by the more complex generation / distribution / consumption ennvironment and the related economic implication."
   ]
  },
  {
   "cell_type": "markdown",
   "metadata": {},
   "source": [
    "# Modeling Grid Stability"
   ]
  },
  {
   "cell_type": "markdown",
   "metadata": {},
   "source": [
    "- the consumer demand information is collected and evaluated against the current available supply conditions.\n",
    "- The resulting proposed price information is sent back to the consumers for them to decide about usage.\n",
    "- The whole process is time-dependant ==> It is then required to dynamically estimating grid stabitlity.\n",
    "- The work cited in the forword focuses on Decentral Smart Grid Control (DSGC) systems, a methodology strictly tied to monitoring one particular property of the grid - its frequency.\n",
    "- It is known that the electrical signal frequency \"increases in times of excess generation, while it decreases in times of underproduction\" [1]. Therefore,  - measuring the grid frequency -  at the premise of each customer would suffice to provide the network \n",
    "\n",
    "- The DSGC differential equation-based mathematical model described in [1] and assessed in [2] aims at identifying grid instability for a reference - 4-node star - architecture, comprising one power source (a centralized generation node) supplying energy to three consumption nodes. The model takes into consideration inputs (features) related to:\n",
    "\n",
    "    - the total power balance (nominal power produced or consumed at each grid node);\n",
    "    - the response time of participants to adjust consumption and/or production in response to price changes (referred to as \"reaction time)\n",
    "    - energy price elasticity\n",
    "    \n",
    "\n"
   ]
  },
  {
   "cell_type": "markdown",
   "metadata": {},
   "source": [
    "<img src=\"https://i.imgur.com/hvmW0cg.png\" width=\"500\" height=\"100\">"
   ]
  },
  {
   "cell_type": "markdown",
   "metadata": {},
   "source": [
    "# Build the NNs for Titanic"
   ]
  },
  {
   "cell_type": "code",
   "execution_count": null,
   "metadata": {
    "vscode": {
     "languageId": "plaintext"
    }
   },
   "outputs": [],
   "source": [
    "def build_titanic_nn(num_neurons_1, dropout_1,\n",
    "                     num_neurons_2, dropout_2,\n",
    "                     input_shape=(num_titanic_features,)):\n",
    "                    \n",
    "    model = keras.Sequential()\n",
    "    model.add(keras.Input(shape=input_shape))\n",
    "    model.add(keras.layers.Dense(num_neurons_1, activation=\"relu\"))\n",
    "    model.add(keras.layers.Dropout(dropout_1))\n",
    "    model.add(keras.layers.Dense(num_neurons_2, activation=\"relu\"))\n",
    "    model.add(keras.layers.Dropout(dropout_2))\n",
    "    model.add(keras.layers.Dense(1, activation=\"sigmoid\"))\n",
    "    return model"
   ]
  },
  {
   "cell_type": "code",
   "execution_count": null,
   "metadata": {
    "vscode": {
     "languageId": "plaintext"
    }
   },
   "outputs": [],
   "source": []
  }
 ],
 "metadata": {
  "language_info": {
   "name": "python"
  }
 },
 "nbformat": 4,
 "nbformat_minor": 2
}
